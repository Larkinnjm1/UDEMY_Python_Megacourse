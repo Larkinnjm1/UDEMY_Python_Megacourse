{
 "cells": [
  {
   "cell_type": "markdown",
   "metadata": {},
   "source": [
    "# Errors and Exceptions Homework"
   ]
  },
  {
   "cell_type": "markdown",
   "metadata": {},
   "source": [
    "### Problem 1\n",
    "Handle the exception thrown by the code below by using <code>try</code> and <code>except</code> blocks."
   ]
  },
  {
   "cell_type": "code",
   "execution_count": 5,
   "metadata": {},
   "outputs": [
    {
     "name": "stdout",
     "output_type": "stream",
     "text": [
      "dude look like an except\n",
      "aa\n",
      "dude look like an except\n",
      "bb\n",
      "dude look like an except\n",
      "cc\n",
      "Did we win Y/N?: \n"
     ]
    }
   ],
   "source": [
    "try: \n",
    "    for i in ['a','b','c']:\n",
    "        \n",
    "        print(i**2)\n",
    "except:\n",
    "    for i in ['a','b','c']:\n",
    "        print('dude look like an except')\n",
    "        print(i+i)\n",
    "finally:\n",
    "    print(f'Did we win Y/N?: ')"
   ]
  },
  {
   "cell_type": "markdown",
   "metadata": {},
   "source": [
    "### Problem 2\n",
    "Handle the exception thrown by the code below by using <code>try</code> and <code>except</code> blocks. Then use a <code>finally</code> block to print 'All Done.'"
   ]
  },
  {
   "cell_type": "code",
   "execution_count": 21,
   "metadata": {},
   "outputs": [
    {
     "name": "stdout",
     "output_type": "stream",
     "text": [
      "0\n",
      "0\n",
      "Y =0 reinput a value greater than 0: 3\n",
      "1.6666666666666667\n",
      "all done\n"
     ]
    }
   ],
   "source": [
    "try:\n",
    "\n",
    "    x = 5\n",
    "    y = 0\n",
    "\n",
    "    z = x/y\n",
    "\n",
    "except:\n",
    "    \n",
    "    if y==0:\n",
    "        print(y)\n",
    "        \n",
    "        y=int(input('Y =0 reinput a value greater than 0: '))\n",
    "        z=x/y\n",
    "    print(z)\n",
    "finally:\n",
    "    print('all done')\n",
    "\n"
   ]
  },
  {
   "cell_type": "markdown",
   "metadata": {},
   "source": [
    "### Problem 3\n",
    "Write a function that asks for an integer and prints the square of it. Use a <code>while</code> loop with a <code>try</code>, <code>except</code>, <code>else</code> block to account for incorrect inputs."
   ]
  },
  {
   "cell_type": "code",
   "execution_count": 22,
   "metadata": {},
   "outputs": [],
   "source": [
    "def ask():\n",
    "    while True:\n",
    "        try:\n",
    "            result =int(input('Input an integer: '))\n",
    "            square=result**2\n",
    "            print(f'square of input is {square}')\n",
    "        except:\n",
    "            print(\"Don't be a dickhead put an integer in\")\n",
    "            continue\n",
    "        else:\n",
    "            print('Finally you got it!')\n",
    "            print(result)\n",
    "            break\n",
    "            \n",
    "                             \n"
   ]
  },
  {
   "cell_type": "code",
   "execution_count": 23,
   "metadata": {},
   "outputs": [
    {
     "name": "stdout",
     "output_type": "stream",
     "text": [
      "Input an integer: drt\n",
      "Don't be a dickhead put an integer in\n",
      "Input an integer: 3\n",
      "square of input is 9\n",
      "Finally you got it!\n",
      "3\n"
     ]
    }
   ],
   "source": [
    "ask()"
   ]
  },
  {
   "cell_type": "markdown",
   "metadata": {},
   "source": [
    "# Great Job!"
   ]
  }
 ],
 "metadata": {
  "kernelspec": {
   "display_name": "Python 3",
   "language": "python",
   "name": "python3"
  },
  "language_info": {
   "codemirror_mode": {
    "name": "ipython",
    "version": 3
   },
   "file_extension": ".py",
   "mimetype": "text/x-python",
   "name": "python",
   "nbconvert_exporter": "python",
   "pygments_lexer": "ipython3",
   "version": "3.6.4"
  }
 },
 "nbformat": 4,
 "nbformat_minor": 1
}
