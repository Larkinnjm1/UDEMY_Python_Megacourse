{
 "cells": [
  {
   "cell_type": "markdown",
   "metadata": {},
   "source": [
    "# Milestone Project 1: Walkthrough Steps Workbook\n",
    "\n",
    "Below is a set of steps for you to follow to try to create the Tic Tac Toe Milestone Project game!"
   ]
  },
  {
   "cell_type": "markdown",
   "metadata": {},
   "source": [
    "#### Some suggested tools before you get started:\n",
    "To take input from a user:\n",
    "\n",
    "    player1 = input(\"Please pick a marker 'X' or 'O'\")\n",
    "    \n",
    "Note that input() takes in a string. If you need an integer value, use\n",
    "\n",
    "    position = int(input('Please enter a number'))\n",
    "    \n",
    "<br>To clear the screen between moves:\n",
    "\n",
    "    from IPython.display import clear_output\n",
    "    clear_output()\n",
    "    \n",
    "Note that clear_output() will only work in jupyter. To clear the screen in other IDEs, consider:\n",
    "\n",
    "    print('\\n'*100)\n",
    "    \n",
    "This scrolls the previous board up out of view. Now on to the program!"
   ]
  },
  {
   "cell_type": "markdown",
   "metadata": {},
   "source": [
    "**Step 1: Write a function that can print out a board. Set up your board as a list, where each index 1-9 corresponds with a number on a number pad, so you get a 3 by 3 board representation.**"
   ]
  },
  {
   "cell_type": "code",
   "execution_count": null,
   "metadata": {},
   "outputs": [],
   "source": [
    "from IPython.display import clear_output\n",
    "\n",
    "def display_board(board):\n",
    "    a='|'\n",
    "    b='---'\n",
    "    if len(board)<10:\n",
    "        print(\"{}\\t{}\\t{}\\t{}\\t{}\".format(board[0],a,board[1],a,board[2]))\n",
    "        print(b*12)\n",
    "        print(\"{}\\t{}\\t{}\\t{}\\t{}\".format(board[3],a,board[4],a,board[5]))\n",
    "        print(b*12)\n",
    "        print(\"{}\\t{}\\t{}\\t{}\\t{}\".format(board[6],a,board[7],a,board[8]))\n",
    "    else:\n",
    "        print('too many inputs')"
   ]
  },
  {
   "cell_type": "markdown",
   "metadata": {},
   "source": [
    "**TEST Step 1:** run your function on a test version of the board list, and make adjustments as necessary"
   ]
  },
  {
   "cell_type": "code",
   "execution_count": null,
   "metadata": {},
   "outputs": [],
   "source": [
    "test_board = ['X','X','X','O','O',' ','','','']\n",
    "display_board(test_board)"
   ]
  },
  {
   "cell_type": "markdown",
   "metadata": {},
   "source": [
    "**Step 2: Write a function that can take in a player input and assign their marker as 'X' or 'O'. Think about using *while* loops to continually ask until you get a correct answer.**"
   ]
  },
  {
   "cell_type": "code",
   "execution_count": null,
   "metadata": {},
   "outputs": [],
   "source": [
    "def player_input():\n",
    "    val=0\n",
    "    while val==0:\n",
    "        var=input('player input either X or O:')\n",
    "            \n",
    "        if var== 'x' or var == 'o':\n",
    "                val=1\n",
    "    return var\n",
    "            \n",
    "\n",
    "\n",
    "        \n",
    "        \n",
    "\n",
    " "
   ]
  },
  {
   "cell_type": "markdown",
   "metadata": {},
   "source": [
    "**TEST Step 2:** run the function to make sure it returns the desired output"
   ]
  },
  {
   "cell_type": "code",
   "execution_count": null,
   "metadata": {},
   "outputs": [],
   "source": [
    "player_input()"
   ]
  },
  {
   "cell_type": "markdown",
   "metadata": {},
   "source": [
    "**Step 3: Write a function that takes in the board list object, a marker ('X' or 'O'), and a desired position (number 1-9) and assigns it to the board.**"
   ]
  },
  {
   "cell_type": "code",
   "execution_count": null,
   "metadata": {},
   "outputs": [],
   "source": [
    "def place_marker(test_board, marker, position):\n",
    "\n",
    "    for i in range(0,len(test_board)):\n",
    "        if i==position:\n",
    "            test_board[i-1]=marker\n",
    "    return test_board\n"
   ]
  },
  {
   "cell_type": "markdown",
   "metadata": {},
   "source": [
    "**TEST Step 3:** run the place marker function using test parameters and display the modified board"
   ]
  },
  {
   "cell_type": "code",
   "execution_count": null,
   "metadata": {},
   "outputs": [],
   "source": [
    "place_marker(test_board,'$',8)\n",
    "\n",
    "display_board(test_board)"
   ]
  },
  {
   "cell_type": "markdown",
   "metadata": {},
   "source": [
    "**Step 4: Write a function that takes in a board and a mark (X or O) and then checks to see if that mark has won. **"
   ]
  },
  {
   "cell_type": "code",
   "execution_count": null,
   "metadata": {},
   "outputs": [],
   "source": [
    "def win_check(board, mark):\n",
    "    win =0\n",
    "    comp_matrix=[mark,mark,mark]\n",
    "    R1=[board[0],board[1],board[2]]\n",
    "    R2=[board[3],board[4],board[5]]\n",
    "    R3=[board[6],board[7],board[8]]\n",
    "    C1=[board[0],board[3],board[6]]\n",
    "    C2=[board[1],board[4],board[7]]\n",
    "    C3=[board[2],board[5],board[8]]\n",
    "    D1=[board[0],board[4],board[8]]\n",
    "    Win_comb=[R1,R2,R3,C1,C2,C3,D1]\n",
    "    \n",
    "    \n",
    "    \n",
    "    for num in range(0,len(Win_comb)):\n",
    "        if Win_comb[num]==comp_matrix:\n",
    "            print('mark {} has won'.format(mark))\n",
    "            end=1\n",
    "            return end\n",
    "            break\n",
    "        elif num==len(Win_comb)-1:\n",
    "            end=0\n",
    "            return end\n",
    "            print('No mark has won')\n",
    "            \n",
    "            "
   ]
  },
  {
   "cell_type": "markdown",
   "metadata": {},
   "source": [
    "**TEST Step 4:** run the win_check function against our test_board - it should return True"
   ]
  },
  {
   "cell_type": "code",
   "execution_count": null,
   "metadata": {},
   "outputs": [],
   "source": [
    "win_check(test_board,'x')"
   ]
  },
  {
   "cell_type": "markdown",
   "metadata": {},
   "source": [
    "**Step 5: Write a function that uses the random module to randomly decide which player goes first. You may want to lookup random.randint() Return a string of which player went first.**"
   ]
  },
  {
   "cell_type": "code",
   "execution_count": null,
   "metadata": {},
   "outputs": [],
   "source": [
    "import random\n",
    "\n",
    "def choose_first():\n",
    "    a=random.randint(0, 3)\n",
    "    b='P1'\n",
    "    c='P2'\n",
    "    if a==0 or a==2:\n",
    "        print('player 1 goes first')\n",
    "        return b\n",
    "    elif a==1 or a==3:\n",
    "        print('player 2 goes first')\n",
    "        return c\n",
    "\n",
    "    "
   ]
  },
  {
   "cell_type": "markdown",
   "metadata": {},
   "source": [
    "**Step 6: Write a function that returns a boolean indicating whether a space on the board is freely available.**"
   ]
  },
  {
   "cell_type": "code",
   "execution_count": null,
   "metadata": {},
   "outputs": [],
   "source": [
    "def space_check(board, position):\n",
    "    if position >9:\n",
    "        return False\n",
    "    elif board[position-1]=='':\n",
    "        return True\n",
    "    else:\n",
    "        return False\n",
    "        "
   ]
  },
  {
   "cell_type": "markdown",
   "metadata": {},
   "source": [
    "**Step 7: Write a function that checks if the board is full and returns a boolean value. True if full, False otherwise.**"
   ]
  },
  {
   "cell_type": "code",
   "execution_count": null,
   "metadata": {},
   "outputs": [],
   "source": [
    "def full_board_check(board):\n",
    "    val=0\n",
    "    \n",
    "    for i in range(0,len(board)):\n",
    "        \n",
    "        if board[i]=='':\n",
    "            return False\n",
    "            break\n",
    "        \n",
    "        elif i==(len(board)-1) and board[i]!='':\n",
    "            return True\n",
    "        "
   ]
  },
  {
   "cell_type": "markdown",
   "metadata": {},
   "source": [
    "**Step 8: Write a function that asks for a player's next position (as a number 1-9) and then uses the function from step 6 to check if it's a free position. If it is, then return the position for later use.**"
   ]
  },
  {
   "cell_type": "code",
   "execution_count": null,
   "metadata": {},
   "outputs": [],
   "source": [
    "def player_choice(board):\n",
    "    br=0\n",
    "    while br==0:\n",
    "        \n",
    "            position=int(input('please input players position:'))\n",
    "            avail=space_check(board, position)\n",
    "    \n",
    "            if avail is True:\n",
    "                return position\n",
    "                br=1\n",
    "                break\n",
    "            else:\n",
    "                return False\n",
    "                print('That position is not available')\n",
    "    "
   ]
  },
  {
   "cell_type": "markdown",
   "metadata": {},
   "source": [
    "**Step 9: Write a function that asks the player if they want to play again and returns a boolean True if they do want to play again.**"
   ]
  },
  {
   "cell_type": "code",
   "execution_count": null,
   "metadata": {},
   "outputs": [],
   "source": [
    "def replay():\n",
    "    play=input('Do you want to play again? Y/N: ')\n",
    "    \n",
    "    return play=='y' or play =='Y'"
   ]
  },
  {
   "cell_type": "markdown",
   "metadata": {
    "collapsed": true
   },
   "source": [
    "**Step 10: Here comes the hard part! Use while loops and the functions you've made to run the game!**"
   ]
  },
  {
   "cell_type": "code",
   "execution_count": null,
   "metadata": {},
   "outputs": [],
   "source": [
    "print('Welcome to Tic Tac Toe!')\n",
    "End=0\n",
    "while True:    \n",
    "#while True:\n",
    "    # Set the game up here\n",
    "    \n",
    "    from IPython.display import clear_output\n",
    "    import random\n",
    "    import time\n",
    "    \n",
    "    player_setup=choose_first()\n",
    "    if player_setup=='P1':\n",
    "        player=1\n",
    "    elif player_setup=='P2':\n",
    "        player=2\n",
    "        \n",
    "    board =['','','','','','','','','']\n",
    "    \n",
    "    while End==0:\n",
    "        display_board(board)\n",
    "        print(board)\n",
    "        time.sleep(5) #delays display of initial board output clearing \n",
    "        \n",
    "        clear_output() #Clear initial board output \n",
    "        \n",
    "        marker= player_input() #player inputs either X or O\n",
    "        \n",
    "        position=player_choice(board) #input position and checks if space if available \n",
    "        \n",
    "        place_marker(board, marker, position)\n",
    "        print(board)\n",
    "        Anyone_win=win_check(board, marker)#confirm if mark input has won\n",
    "        print(Anyone_win)\n",
    "        full_board=full_board_check(board) #confirm if board is full True or False response \n",
    "        print(full_board)\n",
    "        display_board(board)\n",
    "        \n",
    "        time.sleep(5) #delays display of initial board output clearing \n",
    "        \n",
    "        clear_output() #Clear initial board output\n",
    "        \n",
    "        \n",
    "        if Anyone_win == 1:\n",
    "            print('Player has one game completed proceed to replay')\n",
    "            break\n",
    "            end =1 \n",
    "        elif full_board is True:\n",
    "            print('board is now full')\n",
    "            break\n",
    "            end =1 \n",
    "        \n",
    "        \n",
    "        \n",
    "        \n",
    "    #pass\n",
    "\n",
    "    #while game_on:\n",
    "        #Player 1 Turn\n",
    "        \n",
    "        \n",
    "        # Player2's turn.\n",
    "            \n",
    "            #pass\n",
    "\n",
    "\n",
    "    #if not replay():\n",
    "if not replay():\n",
    "    break\n",
    "        #break"
   ]
  },
  {
   "cell_type": "markdown",
   "metadata": {
    "collapsed": true
   },
   "source": [
    "## Good Job!"
   ]
  }
 ],
 "metadata": {
  "kernelspec": {
   "display_name": "Python 3",
   "language": "python",
   "name": "python3"
  },
  "language_info": {
   "codemirror_mode": {
    "name": "ipython",
    "version": 3
   },
   "file_extension": ".py",
   "mimetype": "text/x-python",
   "name": "python",
   "nbconvert_exporter": "python",
   "pygments_lexer": "ipython3",
   "version": "3.6.4"
  }
 },
 "nbformat": 4,
 "nbformat_minor": 1
}
