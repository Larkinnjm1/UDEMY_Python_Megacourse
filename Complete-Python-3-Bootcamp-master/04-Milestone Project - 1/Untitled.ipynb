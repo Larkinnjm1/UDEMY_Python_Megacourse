{
 "cells": [
  {
   "cell_type": "code",
   "execution_count": null,
   "metadata": {},
   "outputs": [],
   "source": [
    "    a=[0,0,0,0,0,0,0,0,0]\n",
    "    patterns={1:'---------',2:'|',3:{}}\n",
    "    grid =[[1,2,3],[4,5,6],[7,8,9]]\n",
    "    \n",
    "    for i in grid:\n",
    "        print(i)\n",
    "    \n",
    "            "
   ]
  },
  {
   "cell_type": "code",
   "execution_count": null,
   "metadata": {},
   "outputs": [],
   "source": [
    "vert=' |'\n",
    "horiz='---'\n",
    "c=['X','O','X',None,None,' ',0,0,0]\n",
    "vertical_loc=[2,4,8,10,14,16]\n",
    "horiz_loc=[6,12]\n",
    "row1=[]\n",
    "row2=[horiz*5]\n",
    "row3=[]\n",
    "row4=[horiz*5]\n",
    "row5=[]\n",
    "\n",
    "\n",
    "\n",
    "for i in range(0,2):\n",
    "    for j in range(0,9):\n",
    "        if i==0 and j<3:\n",
    "            board[i].append(c[j])\n",
    "        if i==2 and j>=3 and j<6:\n",
    "            \n",
    "            board[i].append(c[j])\n",
    "     \n",
    "\n",
    "print(board)\n",
    "    \n",
    "\n",
    "\n",
    "        "
   ]
  },
  {
   "cell_type": "code",
   "execution_count": null,
   "metadata": {},
   "outputs": [],
   "source": [
    "#print('{}{}{}{}{}'.format(board[0],vert,board[1],vert,board[2]))\n",
    "print('')\n",
    "#print(horiz)\n",
    "#print('{}\\t{}\\t{}\\t{}\\t{}'.format(board[3],vert,board[4],vert,board[5]))\n"
   ]
  },
  {
   "cell_type": "code",
   "execution_count": null,
   "metadata": {},
   "outputs": [],
   "source": [
    "len(d)"
   ]
  },
  {
   "cell_type": "code",
   "execution_count": null,
   "metadata": {},
   "outputs": [],
   "source": [
    "list1 = ['1','2','3','4'] \n",
    " \n",
    "s = \"-\"\n",
    " \n",
    "# joins elements of list1 by '-'\n",
    "# and stores in sting s\n",
    "s = s.join(list1)\n",
    " \n",
    "# join use to join a list of\n",
    "# strings to a separator s\n",
    "print(s)\n"
   ]
  },
  {
   "cell_type": "code",
   "execution_count": null,
   "metadata": {},
   "outputs": [],
   "source": [
    "test_board = ['X','X','X','O','O','x','x','x','x']"
   ]
  },
  {
   "cell_type": "code",
   "execution_count": null,
   "metadata": {},
   "outputs": [],
   "source": [
    "def full_board_check(board):\n",
    "    val=0\n",
    "    \n",
    "    for i in range(0,len(board)):\n",
    "        print(i)\n",
    "        if board[i]=='':\n",
    "            return False\n",
    "            break\n",
    "        \n",
    "        elif i==(len(board)-1) and board[i]!='':\n",
    "            return True\n",
    "  "
   ]
  },
  {
   "cell_type": "code",
   "execution_count": null,
   "metadata": {},
   "outputs": [],
   "source": [
    "full_board_check(test_board)"
   ]
  },
  {
   "cell_type": "code",
   "execution_count": null,
   "metadata": {},
   "outputs": [],
   "source": [
    "def player_choice(board):\n",
    "    position=int(input('please input players position:'))\n",
    "    avail=space_check(board, position)\n",
    "    \n",
    "    if avail is True:\n",
    "        return position\n",
    "    else:\n",
    "        print('That position is not available')\n",
    "    "
   ]
  },
  {
   "cell_type": "code",
   "execution_count": null,
   "metadata": {},
   "outputs": [],
   "source": [
    "def space_check(board, position):\n",
    "    if position >9:\n",
    "        return False\n",
    "    elif board[position-1]=='':\n",
    "        return True\n",
    "    else:\n",
    "        return False"
   ]
  },
  {
   "cell_type": "code",
   "execution_count": null,
   "metadata": {},
   "outputs": [],
   "source": [
    "player_choice(test_board)"
   ]
  },
  {
   "cell_type": "code",
   "execution_count": null,
   "metadata": {},
   "outputs": [],
   "source": [
    "def replay():\n",
    "    play=input('Do you want to play again? Y/N: ')\n",
    "    \n",
    "    return play=='y' or play =='Y'"
   ]
  },
  {
   "cell_type": "code",
   "execution_count": null,
   "metadata": {},
   "outputs": [],
   "source": [
    "replay()"
   ]
  },
  {
   "cell_type": "code",
   "execution_count": null,
   "metadata": {},
   "outputs": [],
   "source": [
    "import random\n",
    "\n",
    "def choose_first():\n",
    "    a=random.randint(0, 3)\n",
    "    b='P1'\n",
    "    c='P2'\n",
    "    if a==0 or a==2:\n",
    "        print('player 1 goes first')\n",
    "        return b\n",
    "    elif a==1 or a==3:\n",
    "        print('player 2 goes first')\n",
    "        return c"
   ]
  },
  {
   "cell_type": "code",
   "execution_count": null,
   "metadata": {},
   "outputs": [],
   "source": [
    "player=choose_first()"
   ]
  },
  {
   "cell_type": "code",
   "execution_count": null,
   "metadata": {},
   "outputs": [],
   "source": [
    "player\n",
    "board =['','','','X','','','','','']"
   ]
  },
  {
   "cell_type": "code",
   "execution_count": null,
   "metadata": {},
   "outputs": [],
   "source": [
    "def player_choice(board):\n",
    "    br=0\n",
    "    while br==0:\n",
    "        \n",
    "            position=int(input('please input players position:'))\n",
    "            avail=space_check(board, position)\n",
    "            \n",
    "            if avail is True:\n",
    "                return position\n",
    "                br=1\n",
    "    \n",
    "            else:\n",
    "                br==0\n",
    "                print('That position is not available')"
   ]
  },
  {
   "cell_type": "code",
   "execution_count": null,
   "metadata": {},
   "outputs": [],
   "source": [
    "player_choice(board)"
   ]
  },
  {
   "cell_type": "code",
   "execution_count": null,
   "metadata": {},
   "outputs": [],
   "source": [
    "len(board)"
   ]
  },
  {
   "cell_type": "code",
   "execution_count": null,
   "metadata": {},
   "outputs": [],
   "source": [
    "board[4]==''"
   ]
  },
  {
   "cell_type": "code",
   "execution_count": null,
   "metadata": {},
   "outputs": [],
   "source": []
  }
 ],
 "metadata": {
  "kernelspec": {
   "display_name": "Python 3",
   "language": "python",
   "name": "python3"
  },
  "language_info": {
   "codemirror_mode": {
    "name": "ipython",
    "version": 3
   },
   "file_extension": ".py",
   "mimetype": "text/x-python",
   "name": "python",
   "nbconvert_exporter": "python",
   "pygments_lexer": "ipython3",
   "version": "3.6.4"
  }
 },
 "nbformat": 4,
 "nbformat_minor": 2
}
