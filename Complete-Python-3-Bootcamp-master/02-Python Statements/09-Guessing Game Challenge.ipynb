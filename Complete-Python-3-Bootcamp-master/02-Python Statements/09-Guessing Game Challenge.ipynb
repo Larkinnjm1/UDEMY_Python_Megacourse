{
 "cells": [
  {
   "cell_type": "markdown",
   "metadata": {},
   "source": [
    "# Guessing Game Challenge\n",
    "\n",
    "Let's use `while` loops to create a guessing game.\n",
    "\n",
    "The Challenge:\n",
    "\n",
    "Write a program that picks a random integer from 1 to 100, and has players guess the number. The rules are:\n",
    "\n",
    "1. If a player's guess is less than 1 or greater than 100, say \"OUT OF BOUNDS\"\n",
    "2. On a player's first turn, if their guess is\n",
    " * within 10 of the number, return \"WARM!\"\n",
    " * further than 10 away from the number, return \"COLD!\"\n",
    "3. On all subsequent turns, if a guess is \n",
    " * closer to the number than the previous guess return \"WARMER!\"\n",
    " * farther from the number than the previous guess, return \"COLDER!\"\n",
    "4. When the player's guess equals the number, tell them they've guessed correctly *and* how many guesses it took!\n",
    "\n",
    "You can try this from scratch, or follow the steps outlined below. A separate Solution notebook has been provided. Good luck!\n"
   ]
  },
  {
   "cell_type": "markdown",
   "metadata": {},
   "source": [
    "#### First, pick a random integer from 1 to 100 using the random module and assign it to a variable\n",
    "\n",
    "Note: `random.randint(a,b)` returns a random integer in range `[a, b]`, including both end points."
   ]
  },
  {
   "cell_type": "code",
   "execution_count": null,
   "metadata": {},
   "outputs": [],
   "source": [
    "import random\n",
    "\n",
    "answer =random.randint(1,100)\n",
    "print(answer)"
   ]
  },
  {
   "cell_type": "markdown",
   "metadata": {},
   "source": [
    "#### Next, print an introduction to the game and explain the rules"
   ]
  },
  {
   "cell_type": "code",
   "execution_count": null,
   "metadata": {},
   "outputs": [],
   "source": [
    "print('Welcome to the Hot/Cold game')\n",
    "a=-1\n",
    "\n",
    "\n"
   ]
  },
  {
   "cell_type": "markdown",
   "metadata": {},
   "source": [
    "#### Create a list to store guesses\n",
    "\n",
    "Hint: zero is a good placeholder value. It's useful because it evaluates to \"False\""
   ]
  },
  {
   "cell_type": "code",
   "execution_count": null,
   "metadata": {},
   "outputs": [],
   "source": [
    "mylist=[0]"
   ]
  },
  {
   "cell_type": "markdown",
   "metadata": {},
   "source": [
    "#### Write a `while` loop that asks for a valid guess. Test it a few times to make sure it works."
   ]
  },
  {
   "cell_type": "code",
   "execution_count": null,
   "metadata": {},
   "outputs": [],
   "source": [
    "while True:\n",
    "    attempt=int(input('Give me you answer punk?!: '))\n",
    "    atb=0\n",
    "    for items in mylist:\n",
    "        if items ==attempt:\n",
    "            atb=1\n",
    "    \n",
    "    if atb==1:\n",
    "        print('Wtf are you doing punk you already gave dat answer sucka')\n",
    "    elif attempt>100 or attempt<=0:\n",
    "        print('WTF ARE YOU DOING PUNK no breakin the rulz')\n",
    "    elif abs(attempt-answer)==0:\n",
    "        \n",
    "        print('oh sheet Nigga you on the money San!')\n",
    "        print(mylist)\n",
    "        break\n",
    "        \n",
    "    elif abs(answer - attempt)>10:\n",
    "        print(\"Colder MOFO Get yo shit together SAANNNN\")\n",
    "        mylist.append(attempt)\n",
    "    else:\n",
    "        \n",
    "        print(\"Oh sheeaaat you on the right track SAAANNN\")\n",
    "        mylist.append(attempt)"
   ]
  },
  {
   "cell_type": "markdown",
   "metadata": {},
   "source": [
    "#### Write a `while` loop that compares the player's guess to our number. If the player guesses correctly, break from the loop. Otherwise, tell the player if they're warmer or colder, and continue asking for guesses.\n",
    "\n",
    "Some hints:\n",
    "* it may help to sketch out all possible combinations on paper first!\n",
    "* you can use the `abs()` function to find the positive difference between two numbers\n",
    "* if you append all new guesses to the list, then the previous guess is given as `guesses[-2]`"
   ]
  },
  {
   "cell_type": "code",
   "execution_count": null,
   "metadata": {},
   "outputs": [],
   "source": [
    "wtf=[1,2,3,4]\n",
    "\n",
    "def funcer(a):\n",
    "    e=0\n",
    "    c=len(a)-1\n",
    "    while c>-1:\n",
    "        d=a[c]\n",
    "        e+=d\n",
    "        c=c-1\n",
    "    print(e)    \n",
    "    return\n",
    "        \n",
    "        \n",
    "        \n",
    "        \n",
    "            \n",
    "        \n",
    "    "
   ]
  },
  {
   "cell_type": "code",
   "execution_count": null,
   "metadata": {},
   "outputs": [],
   "source": [
    "funcer(wtf)"
   ]
  },
  {
   "cell_type": "code",
   "execution_count": 3,
   "metadata": {},
   "outputs": [
    {
     "name": "stdout",
     "output_type": "stream",
     "text": [
      "10\n"
     ]
    }
   ],
   "source": [
    "sting ='nurses run'\n",
    "print(len(sting))"
   ]
  },
  {
   "cell_type": "code",
   "execution_count": 17,
   "metadata": {},
   "outputs": [],
   "source": [
    "def palindrom(strn):\n",
    "    a=[]\n",
    "    i=0\n",
    "    rcstrn=strn.replace(\" \",\"\")\n",
    "    Right_pos=len(rcstrn)-1\n",
    "    Left_pos=0\n",
    "    while abs(Right_pos-Left_pos)>0:\n",
    "        if not rcstrn[Left_pos]==rcstrn[Right_pos]:\n",
    "            return False\n",
    "        \n",
    "        Right_pos-=1\n",
    "        Left_pos+=1\n",
    "        print('Still a palindrome')\n",
    "    return True\n",
    "            \n",
    "\n",
    "            \n",
    "            \n",
    "        \n",
    "    "
   ]
  },
  {
   "cell_type": "code",
   "execution_count": 73,
   "metadata": {},
   "outputs": [],
   "source": [
    "Simp_list=[3,2,3,4,5,7]"
   ]
  },
  {
   "cell_type": "code",
   "execution_count": 74,
   "metadata": {},
   "outputs": [],
   "source": [
    "def Multiply(n):\n",
    "    multi=0\n",
    "    output=n[0]\n",
    "    for num in range(1,len(n)):\n",
    "        multi=n[num]\n",
    "        print('multi is',multi)\n",
    "        print('output is pre multi',output)\n",
    "        output*=multi\n",
    "        print('output is post multi',output)\n",
    "    return output\n",
    "\n",
    "    "
   ]
  },
  {
   "cell_type": "code",
   "execution_count": 75,
   "metadata": {},
   "outputs": [
    {
     "name": "stdout",
     "output_type": "stream",
     "text": [
      "multi is 2\n",
      "output is pre multi 3\n",
      "output is post multi 6\n",
      "multi is 3\n",
      "output is pre multi 6\n",
      "output is post multi 18\n",
      "multi is 4\n",
      "output is pre multi 18\n",
      "output is post multi 72\n",
      "multi is 5\n",
      "output is pre multi 72\n",
      "output is post multi 360\n",
      "multi is 7\n",
      "output is pre multi 360\n",
      "output is post multi 2520\n"
     ]
    },
    {
     "data": {
      "text/plain": [
       "2520"
      ]
     },
     "execution_count": 75,
     "metadata": {},
     "output_type": "execute_result"
    }
   ],
   "source": [
    "Multiply(Simp_list)"
   ]
  },
  {
   "cell_type": "code",
   "execution_count": 18,
   "metadata": {},
   "outputs": [
    {
     "name": "stdout",
     "output_type": "stream",
     "text": [
      "Still a palindrome\n",
      "Still a palindrome\n",
      "Still a palindrome\n",
      "Still a palindrome\n"
     ]
    },
    {
     "data": {
      "text/plain": [
       "True"
      ]
     },
     "execution_count": 18,
     "metadata": {},
     "output_type": "execute_result"
    }
   ],
   "source": [
    "palindrom(sting)"
   ]
  },
  {
   "cell_type": "code",
   "execution_count": 79,
   "metadata": {},
   "outputs": [],
   "source": [
    "samplestring='abcd1234'"
   ]
  },
  {
   "cell_type": "code",
   "execution_count": 86,
   "metadata": {},
   "outputs": [],
   "source": [
    "def revstrn(n):\n",
    "    line=len(n)-1\n",
    "    newstr=''\n",
    "    while line>-1:\n",
    "        newstr+=n[line]\n",
    "        line=line-1\n",
    "    return newstr"
   ]
  },
  {
   "cell_type": "code",
   "execution_count": 87,
   "metadata": {},
   "outputs": [
    {
     "data": {
      "text/plain": [
       "'4321dcba'"
      ]
     },
     "execution_count": 87,
     "metadata": {},
     "output_type": "execute_result"
    }
   ],
   "source": [
    "revstrn(samplestring)"
   ]
  },
  {
   "cell_type": "markdown",
   "metadata": {},
   "source": [
    "That's it! You've just programmed your first game!\n",
    "\n",
    "In the next section we'll learn how to turn some of these repetitive actions into *functions* that can be called whenever we need them."
   ]
  },
  {
   "cell_type": "markdown",
   "metadata": {},
   "source": [
    "### Good Job!"
   ]
  },
  {
   "cell_type": "code",
   "execution_count": 96,
   "metadata": {},
   "outputs": [],
   "source": [
    "value =3"
   ]
  },
  {
   "cell_type": "code",
   "execution_count": 97,
   "metadata": {},
   "outputs": [],
   "source": [
    "def fact(a):\n",
    "    mval=a-1\n",
    "    total=a\n",
    "    while mval>0:\n",
    "        print('pretotal',total)\n",
    "        total*=mval\n",
    "        print('post total',total)\n",
    "        \n",
    "        mval=mval-1\n",
    "    return total\n",
    "        "
   ]
  },
  {
   "cell_type": "code",
   "execution_count": 98,
   "metadata": {},
   "outputs": [
    {
     "name": "stdout",
     "output_type": "stream",
     "text": [
      "pretotal 3\n",
      "post total 6\n",
      "pretotal 6\n",
      "post total 6\n"
     ]
    },
    {
     "data": {
      "text/plain": [
       "6"
      ]
     },
     "execution_count": 98,
     "metadata": {},
     "output_type": "execute_result"
    }
   ],
   "source": [
    "fact(value)"
   ]
  },
  {
   "cell_type": "code",
   "execution_count": 105,
   "metadata": {},
   "outputs": [],
   "source": [
    "word ='String moFo do you L0Ve'\n",
    "uppercases=word[0].isupper()"
   ]
  },
  {
   "cell_type": "code",
   "execution_count": 106,
   "metadata": {},
   "outputs": [],
   "source": [
    "def Up_Low_Case(a):\n",
    "    low_chs=0\n",
    "    upp_chs=0\n",
    "    for letters in a:\n",
    "        if letters.isupper() is True:\n",
    "            upp_chs+=1\n",
    "        else:\n",
    "            low_chs+=1\n",
    "    print('num of lower chase characters:',low_chs)\n",
    "    print('num of upper chase characters:',upp_chs)"
   ]
  },
  {
   "cell_type": "code",
   "execution_count": 107,
   "metadata": {},
   "outputs": [
    {
     "name": "stdout",
     "output_type": "stream",
     "text": [
      "num of lower chase characters: 19\n",
      "num of upper chase characters: 4\n"
     ]
    }
   ],
   "source": [
    "Up_Low_Case(word)"
   ]
  },
  {
   "cell_type": "code",
   "execution_count": 127,
   "metadata": {},
   "outputs": [],
   "source": [
    "list_num=[111,3,3,3,3,4,4,4,5,6,7,7,7]\n",
    "\n",
    "def unique_num(l):\n",
    "    x=[]\n",
    "    for a in l:\n",
    "        if a not in x:\n",
    "            x.append(a)\n",
    "    return x\n",
    "                \n",
    "                \n",
    "                \n",
    "        "
   ]
  },
  {
   "cell_type": "code",
   "execution_count": 128,
   "metadata": {},
   "outputs": [
    {
     "data": {
      "text/plain": [
       "[111, 3, 4, 5, 6, 7]"
      ]
     },
     "execution_count": 128,
     "metadata": {},
     "output_type": "execute_result"
    }
   ],
   "source": [
    "unique_num(list_num)"
   ]
  },
  {
   "cell_type": "code",
   "execution_count": 109,
   "metadata": {},
   "outputs": [
    {
     "data": {
      "text/plain": [
       "0"
      ]
     },
     "execution_count": 109,
     "metadata": {},
     "output_type": "execute_result"
    }
   ],
   "source": [
    "len(uniq_sum)"
   ]
  },
  {
   "cell_type": "code",
   "execution_count": 142,
   "metadata": {},
   "outputs": [],
   "source": [
    "def perfectnum(a):\n",
    "    check=a\n",
    "    list_chk=[]\n",
    "    \n",
    "    for num in range(1,a):\n",
    "        if a%num==0:\n",
    "            list_chk.append(num)\n",
    "    \n",
    "    if sum(list_chk)==a:\n",
    "        return True\n",
    "    else:\n",
    "        return False\n",
    "    "
   ]
  },
  {
   "cell_type": "code",
   "execution_count": 144,
   "metadata": {},
   "outputs": [
    {
     "data": {
      "text/plain": [
       "True"
      ]
     },
     "execution_count": 144,
     "metadata": {},
     "output_type": "execute_result"
    }
   ],
   "source": [
    "perfectnum(28)"
   ]
  },
  {
   "cell_type": "code",
   "execution_count": 145,
   "metadata": {},
   "outputs": [
    {
     "name": "stdout",
     "output_type": "stream",
     "text": [
      "0\n",
      "1\n",
      "2\n",
      "3\n",
      "4\n",
      "5\n",
      "6\n",
      "7\n",
      "8\n",
      "9\n"
     ]
    }
   ],
   "source": [
    "for x in range(max(10,0)):\n",
    "    print(x)\n",
    "            \n",
    "    \n",
    "    "
   ]
  },
  {
   "cell_type": "code",
   "execution_count": 146,
   "metadata": {},
   "outputs": [],
   "source": [
    "a=[1,2,3,4]"
   ]
  },
  {
   "cell_type": "code",
   "execution_count": 147,
   "metadata": {},
   "outputs": [],
   "source": [
    "b=zip(a)"
   ]
  },
  {
   "cell_type": "code",
   "execution_count": 149,
   "metadata": {},
   "outputs": [
    {
     "name": "stdout",
     "output_type": "stream",
     "text": [
      "<zip object at 0x000002493ED5BF08>\n"
     ]
    }
   ],
   "source": [
    "print(b)"
   ]
  },
  {
   "cell_type": "code",
   "execution_count": null,
   "metadata": {},
   "outputs": [],
   "source": []
  }
 ],
 "metadata": {
  "kernelspec": {
   "display_name": "Python 3",
   "language": "python",
   "name": "python3"
  },
  "language_info": {
   "codemirror_mode": {
    "name": "ipython",
    "version": 3
   },
   "file_extension": ".py",
   "mimetype": "text/x-python",
   "name": "python",
   "nbconvert_exporter": "python",
   "pygments_lexer": "ipython3",
   "version": "3.6.4"
  }
 },
 "nbformat": 4,
 "nbformat_minor": 2
}
