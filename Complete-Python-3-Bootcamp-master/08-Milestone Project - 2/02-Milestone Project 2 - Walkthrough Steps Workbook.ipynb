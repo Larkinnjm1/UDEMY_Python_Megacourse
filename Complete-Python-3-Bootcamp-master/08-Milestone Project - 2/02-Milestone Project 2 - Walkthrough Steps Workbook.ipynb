{
 "cells": [
  {
   "cell_type": "markdown",
   "metadata": {
    "collapsed": true
   },
   "source": [
    "# Milestone Project 2 - Walkthrough Steps Workbook\n",
    "Below is a set of steps for you to follow to try to create the Blackjack Milestone Project game!"
   ]
  },
  {
   "cell_type": "markdown",
   "metadata": {},
   "source": [
    "## Game Play\n",
    "To play a hand of Blackjack the following steps must be followed:\n",
    "1. Create a deck of 52 cards\n",
    "2. Shuffle the deck\n",
    "3. Ask the Player for their bet\n",
    "4. Make sure that the Player's bet does not exceed their available chips\n",
    "5. Deal two cards to the Dealer and two cards to the Player\n",
    "6. Show only one of the Dealer's cards, the other remains hidden\n",
    "7. Show both of the Player's cards\n",
    "8. Ask the Player if they wish to Hit, and take another card\n",
    "9. If the Player's hand doesn't Bust (go over 21), ask if they'd like to Hit again.\n",
    "10. If a Player Stands, play the Dealer's hand. The dealer will always Hit until the Dealer's value meets or exceeds 17\n",
    "11. Determine the winner and adjust the Player's chips accordingly\n",
    "12. Ask the Player if they'd like to play again"
   ]
  },
  {
   "cell_type": "markdown",
   "metadata": {},
   "source": [
    "## Playing Cards\n",
    "A standard deck of playing cards has four suits (Hearts, Diamonds, Spades and Clubs) and thirteen ranks (2 through 10, then the face cards Jack, Queen, King and Ace) for a total of 52 cards per deck. Jacks, Queens and Kings all have a rank of 10. Aces have a rank of either 11 or 1 as needed to reach 21 without busting. As a starting point in your program, you may want to assign variables to store a list of suits, ranks, and then use a dictionary to map ranks to values."
   ]
  },
  {
   "cell_type": "markdown",
   "metadata": {},
   "source": [
    "## The Game\n",
    "### Imports and Global Variables\n",
    "** Step 1: Import the random module. This will be used to shuffle the deck prior to dealing. Then, declare variables to store suits, ranks and values. You can develop your own system, or copy ours below. Finally, declare a Boolean value to be used to control <code>while</code> loops. This is a common practice used to control the flow of the game.**\n",
    "\n",
    "    suits = ('Hearts', 'Diamonds', 'Spades', 'Clubs')\n",
    "    ranks = ('Two', 'Three', 'Four', 'Five', 'Six', 'Seven', 'Eight', 'Nine', 'Ten', 'Jack', 'Queen', 'King', 'Ace')\n",
    "    values = {'Two':2, 'Three':3, 'Four':4, 'Five':5, 'Six':6, 'Seven':7, 'Eight':8, 'Nine':9, 'Ten':10, 'Jack':10,\n",
    "             'Queen':10, 'King':10, 'Ace':11}"
   ]
  },
  {
   "cell_type": "code",
   "execution_count": 1,
   "metadata": {},
   "outputs": [],
   "source": [
    "import random\n",
    "\n",
    "suits = ('Hearts', 'Diamonds', 'Spades', 'Clubs')\n",
    "ranks = ('Two', 'Three', 'Four', 'Five', 'Six', 'Seven', 'Eight', 'Nine', 'Ten', 'Jack', 'Queen', 'King', 'Ace')\n",
    "values = {'Two':2, 'Three':3, 'Four':4, 'Five':5, 'Six':6, 'Seven':7, 'Eight':8, 'Nine':9, 'Ten':10, 'Jack':10,\n",
    "         'Queen':10, 'King':10, 'Ace':11}\n",
    "\n",
    "playing = True"
   ]
  },
  {
   "cell_type": "markdown",
   "metadata": {},
   "source": [
    "### Class Definitions\n",
    "Consider making a Card class where each Card object has a suit and a rank, then a Deck class to hold all 52 Card objects, and can be shuffled, and finally a Hand class that holds those Cards that have been dealt to each player from the Deck."
   ]
  },
  {
   "cell_type": "markdown",
   "metadata": {},
   "source": [
    "**Step 2: Create a Card Class**<br>\n",
    "A Card object really only needs two attributes: suit and rank. You might add an attribute for \"value\" - we chose to handle value later when developing our Hand class.<br>In addition to the Card's \\_\\_init\\_\\_ method, consider adding a \\_\\_str\\_\\_ method that, when asked to print a Card, returns a string in the form \"Two of Hearts\""
   ]
  },
  {
   "cell_type": "code",
   "execution_count": 2,
   "metadata": {},
   "outputs": [],
   "source": [
    "class Card:\n",
    "    \n",
    "    def __init__(self,suit,rank):\n",
    "        self.suit=suit\n",
    "        self.rank=rank\n",
    "\n",
    "    def __str__(self):\n",
    "        return f'{self.rank} of {self.suit}'\n",
    "    "
   ]
  },
  {
   "cell_type": "markdown",
   "metadata": {},
   "source": [
    "**Step 3: Create a Deck Class**<br>\n",
    "Here we might store 52 card objects in a list that can later be shuffled. First, though, we need to *instantiate* all 52 unique card objects and add them to our list. So long as the Card class definition appears in our code, we can build Card objects inside our Deck \\_\\_init\\_\\_ method. Consider iterating over sequences of suits and ranks to build out each card. This might appear inside a Deck class \\_\\_init\\_\\_ method:\n",
    "\n",
    "    for suit in suits:\n",
    "        for rank in ranks:\n",
    "\n",
    "In addition to an \\_\\_init\\_\\_ method we'll want to add methods to shuffle our deck, and to deal out cards during gameplay.<br><br>\n",
    "OPTIONAL: We may never need to print the contents of the deck during gameplay, but having the ability to see the cards inside it may help troubleshoot any problems that occur during development. With this in mind, consider adding a \\_\\_str\\_\\_ method to the class definition."
   ]
  },
  {
   "cell_type": "code",
   "execution_count": 3,
   "metadata": {},
   "outputs": [],
   "source": [
    "class Deck(Card):\n",
    "    \n",
    "    def __init__(self):\n",
    "\n",
    "        self.valuedeck={}\n",
    "        self.deck = []\n",
    "        # start with an empty list\n",
    "        for suit in suits:\n",
    "            for rank in ranks:\n",
    "                self.deck.append(str(Card(suit,rank)))\n",
    "                \n",
    "        for suit in suits:\n",
    "            for rank in ranks:\n",
    "                if str(Card(suit,rank))not in self.valuedeck:\n",
    "                    self.valuedeck[str(Card(suit,rank))]=values[rank]\n",
    "          \n",
    "    \n",
    "    def __str__(self):\n",
    "        return f'card remaining are:\\n{self.deck}'\n",
    "\n",
    "    def shuffle(self):\n",
    "        random.shuffle(self.deck)\n",
    "        \n",
    "    def deal(self):\n",
    "        a=self.deck.pop()\n",
    "        return a\n"
   ]
  },
  {
   "cell_type": "markdown",
   "metadata": {},
   "source": [
    "\n",
    "TESTING: Just to see that everything works so far, let's see what our Deck looks like!"
   ]
  },
  {
   "cell_type": "code",
   "execution_count": 4,
   "metadata": {},
   "outputs": [
    {
     "name": "stdout",
     "output_type": "stream",
     "text": [
      "card remaining are:\n",
      "['Two of Hearts', 'Three of Hearts', 'Four of Hearts', 'Five of Hearts', 'Six of Hearts', 'Seven of Hearts', 'Eight of Hearts', 'Nine of Hearts', 'Ten of Hearts', 'Jack of Hearts', 'Queen of Hearts', 'King of Hearts', 'Ace of Hearts', 'Two of Diamonds', 'Three of Diamonds', 'Four of Diamonds', 'Five of Diamonds', 'Six of Diamonds', 'Seven of Diamonds', 'Eight of Diamonds', 'Nine of Diamonds', 'Ten of Diamonds', 'Jack of Diamonds', 'Queen of Diamonds', 'King of Diamonds', 'Ace of Diamonds', 'Two of Spades', 'Three of Spades', 'Four of Spades', 'Five of Spades', 'Six of Spades', 'Seven of Spades', 'Eight of Spades', 'Nine of Spades', 'Ten of Spades', 'Jack of Spades', 'Queen of Spades', 'King of Spades', 'Ace of Spades', 'Two of Clubs', 'Three of Clubs', 'Four of Clubs', 'Five of Clubs', 'Six of Clubs', 'Seven of Clubs', 'Eight of Clubs', 'Nine of Clubs', 'Ten of Clubs', 'Jack of Clubs', 'Queen of Clubs', 'King of Clubs', 'Ace of Clubs']\n"
     ]
    }
   ],
   "source": [
    "test_deck = Deck()\n",
    "\n",
    "print(test_deck)"
   ]
  },
  {
   "cell_type": "markdown",
   "metadata": {},
   "source": [
    "Great! Now let's move on to our Hand class."
   ]
  },
  {
   "cell_type": "markdown",
   "metadata": {},
   "source": [
    "**Step 4: Create a Hand Class**<br>\n",
    "In addition to holding Card objects dealt from the Deck, the Hand class may be used to calculate the value of those cards using the values dictionary defined above. It may also need to adjust for the value of Aces when appropriate."
   ]
  },
  {
   "cell_type": "code",
   "execution_count": 5,
   "metadata": {},
   "outputs": [],
   "source": [
    "class Hand(Deck):\n",
    "    def __init__(self,cards,value,aces,count):\n",
    "        self.cards = []  # start with an empty list as we did in the Deck class\n",
    "        self.value = 0   # start with zero value\n",
    "        self.aces = 0    # add an attribute to keep track of aces\n",
    "        self.count=0\n",
    "    def __str__(self):\n",
    "        return f'card in hand are:\\n{self.cards}'\n",
    "\n",
    "        \n",
    "    def add_card(self,Deck):\n",
    "        Deck.shuffle()\n",
    "        self.cards.append(Deck.deal())\n",
    "        return self.cards     \n",
    "        \n",
    "    def adjust_for_ace(self,deck):\n",
    "        \n",
    "   \n",
    "        while True:\n",
    "            try:\n",
    "                #print('Down try route')\n",
    "                for i in range(self.count,len(self.cards)):\n",
    "                    if self.cards[i][0:3]=='Ace':\n",
    "                        #print('down if route')\n",
    "                        \n",
    "                        while True:\n",
    "                            a=0\n",
    "                            a=int(input('Input 1 or 11 for your ace value '))\n",
    "                            \n",
    "                            if a==11 or a==1:\n",
    "                                self.value +=a\n",
    "                                #print(self.value)\n",
    "                                self.count+=1\n",
    "                                break\n",
    "                            else:\n",
    "                                print('Have not inputted 1 or 11 as ace value go again')\n",
    "                                continue\n",
    "                                                      \n",
    "                        \n",
    "                    elif self.cards[i] in deck.valuedeck:\n",
    "                        #print('down elif route')\n",
    "                        self.value+=deck.valuedeck[self.cards[i]]\n",
    "                        #print(self.value)\n",
    "                        self.count+=1\n",
    "                        \n",
    "                    else:\n",
    "                        print('down else route problem is happening')\n",
    "                      #  print('issue with if and elif functions')\n",
    "                return self.value\n",
    "                break\n",
    "                    \n",
    "            except:\n",
    "                print('adjust for ace goddamit Check your ace input ')\n",
    "                continue\n",
    "            else:\n",
    "                print('Values inputted into system correctly')\n",
    "            \n",
    "                \n"
   ]
  },
  {
   "cell_type": "code",
   "execution_count": 6,
   "metadata": {},
   "outputs": [],
   "source": [
    "test_hand=Hand([],0,0,0)\n",
    "\n"
   ]
  },
  {
   "cell_type": "code",
   "execution_count": 7,
   "metadata": {},
   "outputs": [
    {
     "name": "stdout",
     "output_type": "stream",
     "text": [
      "card in hand are:\n",
      "['Ace of spades']\n"
     ]
    }
   ],
   "source": [
    "test_hand.cards=['Ace of spades']\n",
    "print(test_hand)\n",
    "\n",
    "\n",
    "\n"
   ]
  },
  {
   "cell_type": "code",
   "execution_count": 8,
   "metadata": {},
   "outputs": [
    {
     "data": {
      "text/plain": [
       "['Ace of spades']"
      ]
     },
     "execution_count": 8,
     "metadata": {},
     "output_type": "execute_result"
    }
   ],
   "source": [
    "test_hand.cards"
   ]
  },
  {
   "cell_type": "code",
   "execution_count": 9,
   "metadata": {},
   "outputs": [
    {
     "name": "stdout",
     "output_type": "stream",
     "text": [
      "Input 1 or 11 for your ace value 11\n",
      "11\n"
     ]
    }
   ],
   "source": [
    "aca=test_hand.adjust_for_ace(test_deck)\n",
    "print(aca)"
   ]
  },
  {
   "cell_type": "code",
   "execution_count": null,
   "metadata": {},
   "outputs": [],
   "source": []
  },
  {
   "cell_type": "markdown",
   "metadata": {},
   "source": [
    "**Step 5: Create a Chips Class**<br>\n",
    "In addition to decks of cards and hands, we need to keep track of a Player's starting chips, bets, and ongoing winnings. This could be done using global variables, but in the spirit of object oriented programming, let's make a Chips class instead!"
   ]
  },
  {
   "cell_type": "code",
   "execution_count": 10,
   "metadata": {},
   "outputs": [],
   "source": [
    "class Chips:\n",
    "    \n",
    "    def __init__(self):\n",
    "        self.total = int(input('Please input the total value of your chips: '))  # This can be set to a default value or supplied by a user input\n",
    "        self.bet = 0\n",
    "        \n",
    "    def win_bet(self,bet):\n",
    "        self.total=self.total+bet\n",
    "        print(f'You won the bet Mofo and ${bet}')\n",
    "        print(f'Your remaining chips value is:${self.total}')\n",
    "    def lose_bet(self,bet):\n",
    "        self.total=self.total-bet\n",
    "        print(f'You lost the bet Mofo and ${bet}')\n",
    "        print(f'Your remaining chips value is:${self.total}')"
   ]
  },
  {
   "cell_type": "code",
   "execution_count": 11,
   "metadata": {},
   "outputs": [
    {
     "name": "stdout",
     "output_type": "stream",
     "text": [
      "Please input the total value of your chips: 12\n"
     ]
    }
   ],
   "source": [
    "Test_chips =Chips()"
   ]
  },
  {
   "cell_type": "code",
   "execution_count": 12,
   "metadata": {},
   "outputs": [
    {
     "name": "stdout",
     "output_type": "stream",
     "text": [
      "You lost the bet Mofo and $15\n",
      "Your remaining chips value is:$-3\n"
     ]
    }
   ],
   "source": [
    "Test_chips.lose_bet(15)\n"
   ]
  },
  {
   "cell_type": "code",
   "execution_count": 13,
   "metadata": {},
   "outputs": [
    {
     "data": {
      "text/plain": [
       "-3"
      ]
     },
     "execution_count": 13,
     "metadata": {},
     "output_type": "execute_result"
    }
   ],
   "source": [
    "Test_chips.total"
   ]
  },
  {
   "cell_type": "code",
   "execution_count": 14,
   "metadata": {},
   "outputs": [
    {
     "name": "stdout",
     "output_type": "stream",
     "text": [
      "You won the bet Mofo and $15\n",
      "Your remaining chips value is:$12\n"
     ]
    }
   ],
   "source": [
    "Test_chips.win_bet(15)"
   ]
  },
  {
   "cell_type": "code",
   "execution_count": null,
   "metadata": {},
   "outputs": [],
   "source": []
  },
  {
   "cell_type": "markdown",
   "metadata": {},
   "source": [
    "### Function Defintions\n",
    "A lot of steps are going to be repetitive. That's where functions come in! The following steps are guidelines - add or remove functions as needed in your own program."
   ]
  },
  {
   "cell_type": "markdown",
   "metadata": {},
   "source": [
    "**Step 6: Write a function for taking bets**<br>\n",
    "Since we're asking the user for an integer value, this would be a good place to use <code>try</code>/<code>except</code>. Remember to check that a Player's bet can be covered by their available chips."
   ]
  },
  {
   "cell_type": "code",
   "execution_count": 15,
   "metadata": {},
   "outputs": [],
   "source": [
    "def take_bet(player_chips):\n",
    "    while True:\n",
    "        \n",
    "        try:\n",
    "            bet= int(input(f'please input the amount you want to bet: '))\n",
    "            if player_chips.total-bet<0:\n",
    "                print('you betting too much sucker! calm down')\n",
    "                continue\n",
    "            else:\n",
    "                remaining=player_chips.total-bet\n",
    "                print(f'You have betted ${bet} and have ${remaining} remaining')\n",
    "                return bet\n",
    "                break\n",
    "        except:\n",
    "            print('You did not input a number as your bet try again!')\n",
    "            \n",
    "            \n",
    "            \n",
    "            \n",
    "    \n",
    "    \n"
   ]
  },
  {
   "cell_type": "code",
   "execution_count": 16,
   "metadata": {},
   "outputs": [
    {
     "name": "stdout",
     "output_type": "stream",
     "text": [
      "please input the amount you want to bet: 2\n",
      "You have betted $2 and have $10 remaining\n"
     ]
    },
    {
     "data": {
      "text/plain": [
       "2"
      ]
     },
     "execution_count": 16,
     "metadata": {},
     "output_type": "execute_result"
    }
   ],
   "source": [
    "take_bet(Test_chips)\n"
   ]
  },
  {
   "cell_type": "code",
   "execution_count": 17,
   "metadata": {},
   "outputs": [
    {
     "data": {
      "text/plain": [
       "12"
      ]
     },
     "execution_count": 17,
     "metadata": {},
     "output_type": "execute_result"
    }
   ],
   "source": [
    "Test_chips.total"
   ]
  },
  {
   "cell_type": "code",
   "execution_count": null,
   "metadata": {},
   "outputs": [],
   "source": []
  },
  {
   "cell_type": "markdown",
   "metadata": {},
   "source": [
    "**Step 7: Write a function for taking hits**<br>\n",
    "Either player can take hits until they bust. This function will be called during gameplay anytime a Player requests a hit, or a Dealer's hand is less than 17. It should take in Deck and Hand objects as arguments, and deal one card off the deck and add it to the Hand. You may want it to check for aces in the event that a player's hand exceeds 21."
   ]
  },
  {
   "cell_type": "code",
   "execution_count": 18,
   "metadata": {},
   "outputs": [],
   "source": [
    "def hit(deck,hand):\n",
    "        deck.shuffle()\n",
    "        hand.add_card(deck)\n",
    "        hand.adjust_for_ace(deck)\n",
    "        \n",
    "        \n",
    "        \n"
   ]
  },
  {
   "cell_type": "code",
   "execution_count": 19,
   "metadata": {},
   "outputs": [],
   "source": [
    "hit(test_deck,test_hand)"
   ]
  },
  {
   "cell_type": "code",
   "execution_count": 20,
   "metadata": {},
   "outputs": [
    {
     "name": "stdout",
     "output_type": "stream",
     "text": [
      "16\n"
     ]
    }
   ],
   "source": [
    "print(test_hand.value)"
   ]
  },
  {
   "cell_type": "code",
   "execution_count": 21,
   "metadata": {},
   "outputs": [
    {
     "name": "stdout",
     "output_type": "stream",
     "text": [
      "card remaining are:\n",
      "['Nine of Hearts', 'Ace of Diamonds', 'Queen of Hearts', 'Three of Clubs', 'Seven of Diamonds', 'Nine of Clubs', 'Three of Hearts', 'Seven of Hearts', 'Eight of Spades', 'Ten of Hearts', 'Nine of Spades', 'King of Hearts', 'Ten of Diamonds', 'Four of Clubs', 'Six of Hearts', 'Four of Spades', 'Queen of Spades', 'Ten of Clubs', 'King of Spades', 'Jack of Hearts', 'Five of Clubs', 'Two of Hearts', 'Seven of Clubs', 'Queen of Clubs', 'Six of Diamonds', 'Six of Spades', 'Seven of Spades', 'Ace of Spades', 'Four of Hearts', 'Six of Clubs', 'Three of Diamonds', 'Ten of Spades', 'Jack of Spades', 'King of Diamonds', 'Ace of Clubs', 'Eight of Clubs', 'Five of Hearts', 'Ace of Hearts', 'Eight of Diamonds', 'Jack of Diamonds', 'Queen of Diamonds', 'Two of Clubs', 'Two of Diamonds', 'Three of Spades', 'Two of Spades', 'King of Clubs', 'Four of Diamonds', 'Jack of Clubs', 'Eight of Hearts', 'Nine of Diamonds', 'Five of Spades']\n"
     ]
    }
   ],
   "source": [
    "print(test_deck)"
   ]
  },
  {
   "cell_type": "markdown",
   "metadata": {},
   "source": [
    "**Step 8: Write a function prompting the Player to Hit or Stand**<br>\n",
    "This function should accept the deck and the player's hand as arguments, and assign playing as a global variable.<br>\n",
    "If the Player Hits, employ the hit() function above. If the Player Stands, set the playing variable to False - this will control the behavior of a <code>while</code> loop later on in our code."
   ]
  },
  {
   "cell_type": "code",
   "execution_count": 22,
   "metadata": {},
   "outputs": [],
   "source": [
    "def hit_or_stand(deck,hand):\n",
    "    global playing\n",
    "    playing= True \n",
    "    \n",
    "    # to control an upcoming while loop\n",
    "    \n",
    "    while True:\n",
    "        choice=input(f'please input hit or stand current value of hand is {hand.value} ')\n",
    "\n",
    "        if choice.lower() =='hit':\n",
    "            hit(deck,hand)\n",
    "        elif choice.lower()=='stand':\n",
    "            break\n",
    "        else:\n",
    "            print(f'input was not right go again')\n",
    "            continue"
   ]
  },
  {
   "cell_type": "code",
   "execution_count": 23,
   "metadata": {},
   "outputs": [
    {
     "name": "stdout",
     "output_type": "stream",
     "text": [
      "please input hit or stand current value of hand is 16 stand\n"
     ]
    }
   ],
   "source": [
    "#playing=True\n",
    "#while playing ==True:\n",
    "hit_or_stand(test_deck,test_hand)\n",
    "    "
   ]
  },
  {
   "cell_type": "code",
   "execution_count": 24,
   "metadata": {},
   "outputs": [
    {
     "name": "stdout",
     "output_type": "stream",
     "text": [
      "16\n"
     ]
    }
   ],
   "source": [
    "print(test_hand.value)"
   ]
  },
  {
   "cell_type": "markdown",
   "metadata": {},
   "source": [
    "**Step 9: Write functions to display cards**<br>\n",
    "When the game starts, and after each time Player takes a card, the dealer's first card is hidden and all of Player's cards are visible. At the end of the hand all cards are shown, and you may want to show each hand's total value. Write a function for each of these scenarios."
   ]
  },
  {
   "cell_type": "code",
   "execution_count": 25,
   "metadata": {},
   "outputs": [],
   "source": [
    "def  show_some(player,dealer):\n",
    "    \n",
    "    print(f'Players initial cards are the following:\\n{player.cards}')\n",
    "    print(f' Initial value of players hand is: {player.value}')\n",
    "    print(f'\\nDealers cards with one hidden are the following:\\n{dealer.cards[1:]}')\n",
    "    print(f' Initial value of dealers hand is: {dealer.value}')\n",
    "\n",
    "    \n",
    "def show_all(player,dealer):\n",
    "    \n",
    "    print(f'Current of hand players cards are the following:\\n{player.cards}')\n",
    "    print(f'Current of hand initial value of players hand is: {player.value}')\n",
    "    print(f'\\n Current complete hand of dealers cards are the following:\\n{dealer.cards}')\n",
    "    print(f' Current complete hand of dealers hand is: {dealer.value}')\n",
    "    "
   ]
  },
  {
   "cell_type": "code",
   "execution_count": 26,
   "metadata": {},
   "outputs": [
    {
     "name": "stdout",
     "output_type": "stream",
     "text": [
      "Players initial cards are the following:\n",
      "['Ace of spades', 'Five of Diamonds']\n",
      " Initial value of players hand is: 16\n",
      "\n",
      "Dealers cards with one hidden are the following:\n",
      "['Five of Diamonds']\n",
      " Initial value of dealers hand is: 16\n"
     ]
    }
   ],
   "source": [
    "show_some(test_hand,test_hand)"
   ]
  },
  {
   "cell_type": "code",
   "execution_count": 27,
   "metadata": {},
   "outputs": [
    {
     "name": "stdout",
     "output_type": "stream",
     "text": [
      "Current of hand players cards are the following:\n",
      "['Ace of spades', 'Five of Diamonds']\n",
      "Current of hand initial value of players hand is: 16\n",
      "\n",
      " Current complete hand of dealers cards are the following:\n",
      "['Ace of spades', 'Five of Diamonds']\n",
      " Current complete hand of dealers hand is: 16\n"
     ]
    }
   ],
   "source": [
    "show_all(test_hand,test_hand)"
   ]
  },
  {
   "cell_type": "markdown",
   "metadata": {},
   "source": [
    "**Step 10: Write functions to handle end of game scenarios**<br>\n",
    "Remember to pass player's hand, dealer's hand and chips as needed."
   ]
  },
  {
   "cell_type": "code",
   "execution_count": 37,
   "metadata": {},
   "outputs": [],
   "source": [
    "def player_busts(players_hand,players_chips,bet):\n",
    "    print(f'You went bust (>21) boohoo the value of your cards are {players_hand.value}')\n",
    "    return players_chips.lose_bet(bet)\n",
    "\n",
    "def player_wins(players_hand,dealers_hand,players_chips,bet):\n",
    "    \n",
    "    \n",
    "    print(f'The value of your cards was {players_hand.value}')\n",
    "    print(f'The value the dealers cards was {dealers_hand.value}')    \n",
    "    \n",
    "    return players_chips.win_bet(bet)\n",
    "    \n",
    "\n",
    "def dealer_busts(players_hand,dealers_hand,players_chips,bet):\n",
    "    print(f'Dealer went bust (>21) with a hand value of {dealers_hand.value}' )\n",
    "    print(f'Woohoo the value of your cards are {players_hand.value}')\n",
    "    \n",
    "    players_chips.win_bet(bet)\n",
    "    \n",
    "def dealer_wins(players_hand,dealers_hand,players_chips,bet):\n",
    "    print(f'You lost boohoo with a hand value of {players_hand.value} the value of the dealers cards where {dealers_hand.value}')\n",
    "    players_chips.lose_bet(bet)\n",
    "    \n",
    "def push(players_hand,dealers_hand,deck):\n",
    "    print(f'Draw with players hand value at {players_hand.value} and dealers hand value at {dealers_hand.value}')\n",
    "    print('Redraw new cards as a result of draw')\n",
    "    players_hand=([],0,0,0)\n",
    "    dealers_hand=([],0,0,0)\n",
    "          \n",
    "    players_hand.add_card(deck)\n",
    "    players_hand.add_card(deck)\n",
    "    players_hand.adjust_for_ace(deck)\n",
    "          \n",
    "    dealers_hand.add_card(deck)\n",
    "    dealers_hand.add_card(deck)\n",
    "    dealers_hand.adjust_for_ace(deck)\n",
    "          \n",
    "    return [players_hand,dealers_hand]\n",
    "    \n",
    "    "
   ]
  },
  {
   "cell_type": "markdown",
   "metadata": {},
   "source": [
    "### And now on to the game!!"
   ]
  },
  {
   "cell_type": "code",
   "execution_count": 40,
   "metadata": {},
   "outputs": [
    {
     "name": "stdout",
     "output_type": "stream",
     "text": [
      "True\n",
      "welcome to Blackjack WHO WANTS TO MAKE SOME MONEEEYYY\n",
      "Please input the total value of your chips: 100\n",
      "card in hand are:\n",
      "['Ten of Clubs', 'Seven of Hearts']\n",
      "please input the amount you want to bet: 20\n",
      "You have betted $20 and have $80 remaining\n",
      "Players initial cards are the following:\n",
      "['Ten of Clubs', 'Seven of Hearts']\n",
      " Initial value of players hand is: 17\n",
      "\n",
      "Dealers cards with one hidden are the following:\n",
      "['Seven of Spades']\n",
      " Initial value of dealers hand is: 13\n",
      "please input hit or stand current value of hand is 17 hit\n",
      "please input hit or stand current value of hand is 25 stand\n",
      "Players initial cards are the following:\n",
      "['Ten of Clubs', 'Seven of Hearts', 'Eight of Diamonds']\n",
      " Initial value of players hand is: 25\n",
      "\n",
      "Dealers cards with one hidden are the following:\n",
      "['Seven of Spades']\n",
      " Initial value of dealers hand is: 13\n",
      "You went bust (>21) boohoo the value of your cards are 25\n",
      "You lost the bet Mofo and $20\n",
      "Your remaining chips value is:$80\n",
      "Do you want to play again Yes/No?:yes\n",
      "input excepted game to be continued\n",
      "Input 1 or 11 for your ace value 10\n",
      "Have not inputted 1 or 11 as ace value go again\n",
      "Input 1 or 11 for your ace value 11\n",
      "Input 1 or 11 for your ace value 1\n",
      "card in hand are:\n",
      "['Eight of Hearts', 'Ace of Hearts']\n",
      "please input the amount you want to bet: 82\n",
      "you betting too much sucker! calm down\n",
      "please input the amount you want to bet: 69\n",
      "You have betted $69 and have $11 remaining\n",
      "Players initial cards are the following:\n",
      "['Eight of Hearts', 'Ace of Hearts']\n",
      " Initial value of players hand is: 19\n",
      "\n",
      "Dealers cards with one hidden are the following:\n",
      "['Ten of Diamonds']\n",
      " Initial value of dealers hand is: 11\n",
      "please input hit or stand current value of hand is 19 stand\n",
      "Players initial cards are the following:\n",
      "['Eight of Hearts', 'Ace of Hearts']\n",
      " Initial value of players hand is: 19\n",
      "\n",
      "Dealers cards with one hidden are the following:\n",
      "['Ten of Diamonds']\n",
      " Initial value of dealers hand is: 11\n",
      "hitting the dealer, dealers hand value is 11\n",
      "Current of hand players cards are the following:\n",
      "['Eight of Hearts', 'Ace of Hearts']\n",
      "Current of hand initial value of players hand is: 19\n",
      "\n",
      " Current complete hand of dealers cards are the following:\n",
      "['Ace of Clubs', 'Ten of Diamonds', 'Ten of Spades']\n",
      " Current complete hand of dealers hand is: 21\n",
      "You lost boohoo with a hand value of 19 the value of the dealers cards where 21\n",
      "You lost the bet Mofo and $69\n",
      "Your remaining chips value is:$11\n",
      "The total value of your chips are 11\n",
      "Do you want to play again Yes/No?:no\n",
      "input excepted game to be discontinued\n"
     ]
    }
   ],
   "source": [
    "playing=True\n",
    "players_chips=0\n",
    "\n",
    "while True:\n",
    "        # Print an opening statement\n",
    "    print(playing)\n",
    "    print('welcome to Blackjack WHO WANTS TO MAKE SOME MONEEEYYY')\n",
    "\n",
    "    # Create & shuffle the deck, deal two cards to each player\n",
    "    real_deck=Deck()\n",
    "    real_deck.shuffle()\n",
    "\n",
    "    # Set up the Player's chips\n",
    "    if players_chips==0:\n",
    "        players_chips =Chips()\n",
    "\n",
    "    while playing==True:  # recall this variable from our hit_or_stand function\n",
    "        \n",
    "        players_hand=Hand([],0,0,0)\n",
    "\n",
    "        dealers_hand=Hand([],0,0,0)\n",
    "\n",
    "        players_hand.add_card(real_deck)\n",
    "        players_hand.add_card(real_deck)\n",
    "        players_hand.adjust_for_ace(real_deck)\n",
    "\n",
    "        dealers_hand.add_card(real_deck)\n",
    "        dealers_hand.add_card(real_deck)\n",
    "        dealers_hand.adjust_for_ace(real_deck)\n",
    "        \n",
    "        print(players_hand)\n",
    "        \n",
    "                    # Prompt the Player for their bet\n",
    "        players_bet=take_bet(players_chips)\n",
    "\n",
    "            # Show cards (but keep one dealer card hidden)\n",
    "        show_some(players_hand,dealers_hand)      \n",
    "\n",
    "        # Prompt for Player to Hit or Stand\n",
    "        hit_or_stand(real_deck,players_hand)\n",
    "        \n",
    "        # Show cards (but keep one dealer card hidden)\n",
    "        show_some(players_hand,dealers_hand) \n",
    "        \n",
    "        # If player's hand exceeds 21, run player_busts() and break out of loop\n",
    "        if players_hand.value>21:\n",
    "            player_busts(players_hand,players_chips,players_bet)\n",
    "        else:\n",
    "            while dealers_hand.value<=17:\n",
    "                print(f'hitting the dealer, dealers hand value is {dealers_hand.value}')\n",
    "                hit(real_deck,dealers_hand)\n",
    "\n",
    "        # If Player hasn't busted, play Dealer's hand until Dealer reaches 17\n",
    "            # Show all cards\n",
    "            show_all(players_hand,dealers_hand) \n",
    "            # Run different winning scenarios\n",
    "            if dealers_hand.value>21:\n",
    "                dealer_busts(players_hand,dealers_hand,players_chips,players_bet)\n",
    "            elif players_hand.value>dealers_hand.value:\n",
    "                player_wins(players_hand,dealers_hand,players_chips,players_bet)\n",
    "            elif players_hand.value<dealers_hand.value:\n",
    "                dealer_wins(players_hand,dealers_hand,players_chips,players_bet)\n",
    "            else:\n",
    "                push(players_hand,dealers_hand,deck)\n",
    "        \n",
    "            # Inform Player of their chips total\n",
    "            print(f'The total value of your chips are {players_chips.total}')\n",
    "\n",
    "            # Ask to play again\n",
    "        while True:\n",
    "\n",
    "            choice =input('Do you want to play again Yes/No?:')\n",
    "\n",
    "            if choice.lower() =='yes':\n",
    "                print(f'input excepted game to be continued')\n",
    "                Cont_game =0\n",
    "                playing=True\n",
    "                break\n",
    "            elif choice.lower() =='no':\n",
    "                print(f'input excepted game to be discontinued')\n",
    "                playing=False\n",
    "                Cont_game =1\n",
    "                break\n",
    "            else:\n",
    "                print(f'Input to choice was {choice} which is incorrect go again')\n",
    "                continue\n",
    "    \n",
    "    if Cont_game==1:\n",
    "        break         \n",
    "            \n",
    "    \n"
   ]
  },
  {
   "cell_type": "code",
   "execution_count": null,
   "metadata": {},
   "outputs": [],
   "source": []
  },
  {
   "cell_type": "code",
   "execution_count": 33,
   "metadata": {},
   "outputs": [
    {
     "name": "stdout",
     "output_type": "stream",
     "text": [
      "playing value atm is True\n"
     ]
    }
   ],
   "source": [
    "print(f'playing value atm is {playing}')"
   ]
  },
  {
   "cell_type": "code",
   "execution_count": null,
   "metadata": {},
   "outputs": [],
   "source": [
    "help(None)"
   ]
  },
  {
   "cell_type": "code",
   "execution_count": null,
   "metadata": {},
   "outputs": [],
   "source": [
    "choice =input('Do you want to play again Yes/No?:')"
   ]
  },
  {
   "cell_type": "code",
   "execution_count": null,
   "metadata": {},
   "outputs": [],
   "source": [
    "playing=True"
   ]
  },
  {
   "cell_type": "code",
   "execution_count": null,
   "metadata": {},
   "outputs": [],
   "source": [
    "while True:\n",
    "    print(playing)\n",
    "    playing=True\n",
    "    while playing ==True:\n",
    "        while True:\n",
    "\n",
    "            choice =input('Do you want to play again Yes/No?:')\n",
    "\n",
    "            if choice.lower() =='yes':\n",
    "                print(f'input excepted game to be continued')\n",
    "                Cont_game =0\n",
    "                playing=False\n",
    "                break\n",
    "            elif choice.lower() =='no':\n",
    "                print(f'input excepted game to be discontinued')\n",
    "                playing=False\n",
    "                Cont_game =1\n",
    "                break\n",
    "            else:\n",
    "                print(f'Input to choice was {choice} which is incorrect go again')\n",
    "                continue\n",
    "    \n",
    "    if Cont_game==1:\n",
    "        break\n",
    "    else:\n",
    "        continue"
   ]
  },
  {
   "cell_type": "code",
   "execution_count": null,
   "metadata": {},
   "outputs": [],
   "source": [
    "choice.lower() =='no'"
   ]
  },
  {
   "cell_type": "markdown",
   "metadata": {},
   "source": [
    "And that's it! Remember, these steps may differ significantly from your own solution. That's OK! Keep working on different sections of your program until you get the desired results. It takes a lot of time and patience! As always, feel free to post questions and comments to the QA Forums.\n",
    "# Good job!"
   ]
  }
 ],
 "metadata": {
  "kernelspec": {
   "display_name": "Python 3",
   "language": "python",
   "name": "python3"
  },
  "language_info": {
   "codemirror_mode": {
    "name": "ipython",
    "version": 3
   },
   "file_extension": ".py",
   "mimetype": "text/x-python",
   "name": "python",
   "nbconvert_exporter": "python",
   "pygments_lexer": "ipython3",
   "version": "3.6.4"
  }
 },
 "nbformat": 4,
 "nbformat_minor": 1
}
