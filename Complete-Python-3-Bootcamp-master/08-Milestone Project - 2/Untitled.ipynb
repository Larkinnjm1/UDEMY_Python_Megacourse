{
 "cells": [
  {
   "cell_type": "code",
   "execution_count": 13,
   "metadata": {},
   "outputs": [],
   "source": [
    "import random\n",
    "\n",
    "suits = ('Hearts', 'Diamonds', 'Spades', 'Clubs')\n",
    "ranks = ('Two', 'Three', 'Four', 'Five', 'Six', 'Seven', 'Eight', 'Nine', 'Ten', 'Jack', 'Queen', 'King', 'Ace')\n",
    "values = {'Two':2, 'Three':3, 'Four':4, 'Five':5, 'Six':6, 'Seven':7, 'Eight':8, 'Nine':9, 'Ten':10, 'Jack':10,\n",
    "         'Queen':10, 'King':10, 'Ace':11}\n",
    "\n",
    "playing = True"
   ]
  },
  {
   "cell_type": "code",
   "execution_count": 33,
   "metadata": {},
   "outputs": [],
   "source": [
    "class Card:\n",
    "    \n",
    "    def __init__(self,suit,rank,value):\n",
    "        self.suit=suit\n",
    "        self.rank=rank\n",
    "        self.value=value\n",
    "    \n",
    "    def __str__(self):\n",
    "        return f\"{self.rank} of {self.suit}\""
   ]
  },
  {
   "cell_type": "code",
   "execution_count": 34,
   "metadata": {},
   "outputs": [],
   "source": [
    "a=suits[1]\n",
    "b=ranks[1]\n",
    "e=values[b]\n"
   ]
  },
  {
   "cell_type": "code",
   "execution_count": 35,
   "metadata": {},
   "outputs": [],
   "source": [
    "g=Card(a,b,e)"
   ]
  },
  {
   "cell_type": "code",
   "execution_count": 36,
   "metadata": {},
   "outputs": [
    {
     "name": "stdout",
     "output_type": "stream",
     "text": [
      "Three of Diamonds\n"
     ]
    }
   ],
   "source": [
    "print(g)"
   ]
  },
  {
   "cell_type": "code",
   "execution_count": 73,
   "metadata": {},
   "outputs": [],
   "source": [
    "deck=[]\n",
    "\n",
    "for suit in suits:\n",
    "    for rank in ranks:\n",
    "        deck.append(rank)\n",
    "        deck.append(suit)\n",
    "    #for rank in ranks:\n",
    "     #   deck+=zip(suit,rank)"
   ]
  },
  {
   "cell_type": "code",
   "execution_count": 74,
   "metadata": {},
   "outputs": [
    {
     "data": {
      "text/plain": [
       "['Two',\n",
       " 'Hearts',\n",
       " 'Three',\n",
       " 'Hearts',\n",
       " 'Four',\n",
       " 'Hearts',\n",
       " 'Five',\n",
       " 'Hearts',\n",
       " 'Six',\n",
       " 'Hearts',\n",
       " 'Seven',\n",
       " 'Hearts',\n",
       " 'Eight',\n",
       " 'Hearts',\n",
       " 'Nine',\n",
       " 'Hearts',\n",
       " 'Ten',\n",
       " 'Hearts',\n",
       " 'Jack',\n",
       " 'Hearts',\n",
       " 'Queen',\n",
       " 'Hearts',\n",
       " 'King',\n",
       " 'Hearts',\n",
       " 'Ace',\n",
       " 'Hearts',\n",
       " 'Two',\n",
       " 'Diamonds',\n",
       " 'Three',\n",
       " 'Diamonds',\n",
       " 'Four',\n",
       " 'Diamonds',\n",
       " 'Five',\n",
       " 'Diamonds',\n",
       " 'Six',\n",
       " 'Diamonds',\n",
       " 'Seven',\n",
       " 'Diamonds',\n",
       " 'Eight',\n",
       " 'Diamonds',\n",
       " 'Nine',\n",
       " 'Diamonds',\n",
       " 'Ten',\n",
       " 'Diamonds',\n",
       " 'Jack',\n",
       " 'Diamonds',\n",
       " 'Queen',\n",
       " 'Diamonds',\n",
       " 'King',\n",
       " 'Diamonds',\n",
       " 'Ace',\n",
       " 'Diamonds',\n",
       " 'Two',\n",
       " 'Spades',\n",
       " 'Three',\n",
       " 'Spades',\n",
       " 'Four',\n",
       " 'Spades',\n",
       " 'Five',\n",
       " 'Spades',\n",
       " 'Six',\n",
       " 'Spades',\n",
       " 'Seven',\n",
       " 'Spades',\n",
       " 'Eight',\n",
       " 'Spades',\n",
       " 'Nine',\n",
       " 'Spades',\n",
       " 'Ten',\n",
       " 'Spades',\n",
       " 'Jack',\n",
       " 'Spades',\n",
       " 'Queen',\n",
       " 'Spades',\n",
       " 'King',\n",
       " 'Spades',\n",
       " 'Ace',\n",
       " 'Spades',\n",
       " 'Two',\n",
       " 'Clubs',\n",
       " 'Three',\n",
       " 'Clubs',\n",
       " 'Four',\n",
       " 'Clubs',\n",
       " 'Five',\n",
       " 'Clubs',\n",
       " 'Six',\n",
       " 'Clubs',\n",
       " 'Seven',\n",
       " 'Clubs',\n",
       " 'Eight',\n",
       " 'Clubs',\n",
       " 'Nine',\n",
       " 'Clubs',\n",
       " 'Ten',\n",
       " 'Clubs',\n",
       " 'Jack',\n",
       " 'Clubs',\n",
       " 'Queen',\n",
       " 'Clubs',\n",
       " 'King',\n",
       " 'Clubs',\n",
       " 'Ace',\n",
       " 'Clubs']"
      ]
     },
     "execution_count": 74,
     "metadata": {},
     "output_type": "execute_result"
    }
   ],
   "source": [
    "deck"
   ]
  },
  {
   "cell_type": "code",
   "execution_count": null,
   "metadata": {},
   "outputs": [],
   "source": []
  }
 ],
 "metadata": {
  "kernelspec": {
   "display_name": "Python 3",
   "language": "python",
   "name": "python3"
  },
  "language_info": {
   "codemirror_mode": {
    "name": "ipython",
    "version": 3
   },
   "file_extension": ".py",
   "mimetype": "text/x-python",
   "name": "python",
   "nbconvert_exporter": "python",
   "pygments_lexer": "ipython3",
   "version": "3.6.4"
  }
 },
 "nbformat": 4,
 "nbformat_minor": 2
}
