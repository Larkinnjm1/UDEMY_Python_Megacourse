{
 "cells": [
  {
   "cell_type": "code",
   "execution_count": 1,
   "metadata": {},
   "outputs": [],
   "source": [
    "mylist=[1,2,3]"
   ]
  },
  {
   "cell_type": "code",
   "execution_count": 2,
   "metadata": {},
   "outputs": [],
   "source": [
    "myset=set()"
   ]
  },
  {
   "cell_type": "code",
   "execution_count": 9,
   "metadata": {},
   "outputs": [],
   "source": [
    "type(mylist)\n",
    "\n",
    "x= 'false' "
   ]
  },
  {
   "cell_type": "code",
   "execution_count": 17,
   "metadata": {},
   "outputs": [],
   "source": [
    "while x=='true': \n",
    "    \n",
    "\n",
    "     for i in range(1,10):\n",
    "            print(i)\n",
    "            if i>1 and i<5:\n",
    "                \n",
    "                print('always be pinting')\n",
    "                \n",
    "            \n",
    "            else:\n",
    "                x='true'\n",
    "                print(x)\n",
    "        "
   ]
  },
  {
   "cell_type": "code",
   "execution_count": 19,
   "metadata": {},
   "outputs": [
    {
     "name": "stdout",
     "output_type": "stream",
     "text": [
      "The count is: 0\n",
      "The count is: 1\n",
      "The count is: 2\n",
      "The count is: 3\n",
      "The count is: 4\n",
      "The count is: 5\n",
      "The count is: 6\n",
      "The count is: 7\n",
      "The count is: 8\n",
      "good bye!\n"
     ]
    }
   ],
   "source": [
    "count =0\n",
    "while(count<9):\n",
    "    print('The count is:',count)\n",
    "    count=count+1\n",
    "    \n",
    "print('good bye!')"
   ]
  },
  {
   "cell_type": "code",
   "execution_count": 20,
   "metadata": {},
   "outputs": [
    {
     "name": "stdout",
     "output_type": "stream",
     "text": [
      "115\n",
      "114\n",
      "113\n",
      "112\n",
      "111\n",
      "The end is NIGH\n"
     ]
    }
   ],
   "source": [
    "temp =115\n",
    "while temp >110:\n",
    "    print(temp)\n",
    "    temp =temp-1\n",
    "print('The end is NIGH')"
   ]
  },
  {
   "cell_type": "code",
   "execution_count": 21,
   "metadata": {},
   "outputs": [
    {
     "name": "stdout",
     "output_type": "stream",
     "text": [
      "4\n",
      "6\n",
      "8\n"
     ]
    }
   ],
   "source": [
    "i = 4 \n",
    "while i<9:\n",
    "    print(i)\n",
    "    i=i+2"
   ]
  },
  {
   "cell_type": "code",
   "execution_count": 22,
   "metadata": {},
   "outputs": [
    {
     "name": "stdout",
     "output_type": "stream",
     "text": [
      "[4, 6]\n"
     ]
    }
   ],
   "source": [
    "nums=list()\n",
    "i=4\n",
    "while(i<8):\n",
    "    nums.append(i)\n",
    "    i=i+2\n",
    "print(nums)"
   ]
  },
  {
   "cell_type": "code",
   "execution_count": 24,
   "metadata": {
    "scrolled": true
   },
   "outputs": [
    {
     "name": "stdout",
     "output_type": "stream",
     "text": [
      "how man line do you want to enter 2\n",
      "Next line: 12\n",
      "Next line: 12\n",
      "Your lines were:\n",
      "12\n",
      "12\n",
      "12\n",
      "12\n"
     ]
    }
   ],
   "source": [
    "lines=list()\n",
    "n=int(input('how man line do you want to enter '))\n",
    "for i in range(n):\n",
    "    line =input('Next line: ')\n",
    "    lines.append(line)\n",
    "    \n",
    "print('Your lines were:')\n",
    "\n",
    "for lin in lines:\n",
    "    print(lin)\n",
    "    print(line)"
   ]
  },
  {
   "cell_type": "code",
   "execution_count": null,
   "metadata": {},
   "outputs": [],
   "source": []
  }
 ],
 "metadata": {
  "kernelspec": {
   "display_name": "Python 3",
   "language": "python",
   "name": "python3"
  },
  "language_info": {
   "codemirror_mode": {
    "name": "ipython",
    "version": 3
   },
   "file_extension": ".py",
   "mimetype": "text/x-python",
   "name": "python",
   "nbconvert_exporter": "python",
   "pygments_lexer": "ipython3",
   "version": "3.6.4"
  }
 },
 "nbformat": 4,
 "nbformat_minor": 2
}
